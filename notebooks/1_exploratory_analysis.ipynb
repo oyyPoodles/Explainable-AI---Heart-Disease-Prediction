{
 "cells": [
  {
   "cell_type": "markdown",
   "metadata": {},
   "source": [
    "# Heart Disease Dataset - Exploratory Data Analysis\n",
    "\n",
    "This notebook explores the heart disease dataset to understand the features, distributions, and relationships before model building."
   ]
  },
  {
   "cell_type": "code",
   "execution_count": null,
   "metadata": {},
   "source": [
    "# Import necessary libraries\n",
    "import pandas as pd\n",
    "import numpy as np\n",
    "import matplotlib.pyplot as plt\n",
    "import seaborn as sns\n",
    "\n",
    "# Set style for plots\n",
    "plt.style.use('ggplot')\n",
    "sns.set(style=\"whitegrid\")\n",
    "%matplotlib inline"
   ]
  },
  {
   "cell_type": "code",
   "execution_count": null,
   "metadata": {},
   "source": [
    "# Load the dataset\n",
    "df = pd.read_csv('../data/heart.csv')\n",
    "\n",
    "# Display the first few rows\n",
    "print(f\"Dataset shape: {df.shape}\")\n",
    "df.head()"
   ]
  },
  {
   "cell_type": "code",
   "execution_count": null,
   "metadata": {},
   "source": [
    "# Check for missing values\n",
    "print(\"Missing values per column:\")\n",
    "df.isnull().sum()"
   ]
  },
  {
   "cell_type": "code",
   "execution_count": null,
   "metadata": {},
   "source": [
    "# Summary statistics\n",
    "df.describe()"
   ]
  },
  {
   "cell_type": "code",
   "execution_count": null,
   "metadata": {},
   "source": [
    "# Check target class distribution\n",
    "target_counts = df['target'].value_counts()\n",
    "print(\"Target class distribution:\")\n",
    "print(target_counts)\n",
    "\n",
    "plt.figure(figsize=(8, 6))\n",
    "sns.countplot(x='target', data=df)\n",
    "plt.title('Heart Disease Class Distribution')\n",
    "plt.xlabel('Has Heart Disease')\n",
    "plt.ylabel('Count')\n",
    "plt.show()"
   ]
  },
  {
   "cell_type": "code",
   "execution_count": null,
   "metadata": {},
   "source": [
    "# Analyze relationships between features\n",
    "plt.figure(figsize=(15, 12))\n",
    "correlation_matrix = df.corr()\n",
    "sns.heatmap(correlation_matrix, annot=True, cmap='coolwarm', linewidths=0.5)\n",
    "plt.title('Correlation Matrix of Heart Disease Features')\n",
    "plt.show()"
   ]
  },
  {
   "cell_type": "code",
   "execution_count": null,
   "metadata": {},
   "source": [
    "# Visualize key numerical features by target class\n",
    "numerical_features = ['age', 'trestbps', 'chol', 'thalach', 'oldpeak']\n",
    "\n",
    "fig, axes = plt.subplots(len(numerical_features), 1, figsize=(12, 15))\n",
    "fig.tight_layout(pad=3.0)\n",
    "\n",
    "for i, feature in enumerate(numerical_features):\n",
    "    sns.boxplot(x='target', y=feature, data=df, ax=axes[i])\n",
    "    axes[i].set_title(f'Distribution of {feature} by Heart Disease')\n",
    "    axes[i].set_xlabel('Has Heart Disease')\n",
    "    \n",
    "plt.show()"
   ]
  },
  {
   "cell_type": "code",
   "execution_count": null,
   "metadata": {},
   "source": [
    "# Visualize categorical features\n",
    "categorical_features = ['sex', 'cp', 'fbs', 'restecg', 'exang', 'slope', 'ca', 'thal']\n",
    "\n",
    "fig, axes = plt.subplots(4, 2, figsize=(18, 15))\n",
    "fig.tight_layout(pad=3.0)\n",
    "axes = axes.flatten()\n",
    "\n",
    "for i, feature in enumerate(categorical_features):\n",
    "    sns.countplot(x=feature, hue='target', data=df, ax=axes[i])\n",
    "    axes[i].set_title(f'Distribution of {feature} by Heart Disease')\n",
    "    axes[i].set_xlabel(feature)\n",
    "    axes[i].set_ylabel('Count')\n",
    "    axes[i].legend(title='Has Heart Disease')\n",
    "    \n",
    "plt.show()"
   ]
  },
  {
   "cell_type": "code",
   "execution_count": null,
   "metadata": {},
   "source": [
    "# Pairplot for key features\n",
    "important_features = ['age', 'thalach', 'chol', 'oldpeak', 'target']\n",
    "sns.pairplot(df[important_features], hue='target', palette='Set1')\n",
    "plt.suptitle('Pairplot of Key Heart Disease Features', y=1.02)\n",
    "plt.show()"
   ]
  },
  {
   "cell_type": "markdown",
   "metadata": {},
   "source": [
    "## Key Findings\n",
    "\n",
    "1. **Class Distribution**: The dataset is fairly balanced between positive and negative cases, which is good for model training.\n",
    "\n",
    "2. **Correlations**: Several features show moderate to strong correlations with the target variable:\n",
    "   - `thalach` (maximum heart rate achieved): Higher heart rates tend to be associated with less heart disease\n",
    "   - `oldpeak` (ST depression induced by exercise): Higher values correlate with higher disease risk\n",
    "   - `cp` (chest pain type): Certain types of chest pain are more indicative of heart disease\n",
    "\n",
    "3. **Age Distribution**: Older patients appear slightly more likely to have heart disease, but the trend isn't overwhelming\n",
    "\n",
    "4. **Cholesterol**: There's less separation by target class than might be expected, suggesting this may not be as predictive on its own\n",
    "\n",
    "5. **Categorical Features**: `ca` (number of major vessels), `thal`, and `cp` (chest pain type) show clear differences in distribution between positive and negative cases\n",
    "\n",
    "These insights will guide our feature engineering and modeling approach in the next notebook."
   ]
  }
 ],
 "metadata": {
  "kernelspec": {
   "display_name": "Python 3",
   "language": "python",
   "name": "python3"
  }
 }
}